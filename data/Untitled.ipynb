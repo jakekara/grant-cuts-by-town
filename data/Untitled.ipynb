{
 "cells": [
  {
   "cell_type": "code",
   "execution_count": 1,
   "metadata": {
    "collapsed": true
   },
   "outputs": [],
   "source": [
    "import pandas as pd"
   ]
  },
  {
   "cell_type": "code",
   "execution_count": 8,
   "metadata": {
    "collapsed": true
   },
   "outputs": [],
   "source": [
    "def merge_01( df ):\n",
    "\n",
    "    ret = df.copy()\n",
    "\n",
    "    row0 = ret.iloc[0].fillna(method=\"ffill\")\n",
    "    row1 = ret.iloc[1].fillna(\"\")\n",
    "\n",
    "    cols = []\n",
    "    for i in range(len(row0)):\n",
    "\tif row0[i] is None:\n",
    "            cols.append(str(row1[i]))\n",
    "\telse:\n",
    "            cols.append(str(row0[i]) + \"_\" + str(row1[i]))\n",
    "\n",
    "            cols = map(lambda x: x.replace(\"nan_\",\"\"), cols)\n",
    "\n",
    "    ret = ret.drop(0)\n",
    "    ret = ret.drop(1)\n",
    "\n",
    "    ret.columns = cols\n",
    "\n",
    "    def remove_trail(s):\n",
    "        s = s.strip()\n",
    "        if (s[-1] == \"_\"):\n",
    "            return s[:-1]\n",
    "        return s\n",
    "\n",
    "    ret.columns = map(remove_trail, ret.columns)\n",
    "\n",
    "    return ret.reset_index()\n"
   ]
  },
  {
   "cell_type": "code",
   "execution_count": 49,
   "metadata": {
    "collapsed": false
   },
   "outputs": [
    {
     "data": {
      "text/plain": [
       "index                                                                             int64\n",
       "grantee                                                                          object\n",
       "pilot state owned real property_fy 2017                                         float64\n",
       "pilot state owned real property_gov rec original fy 18                          float64\n",
       "pilot state owned real property_gov rec original fy 19                          float64\n",
       "pilot state owned real property_gov rec revised fy 18                           float64\n",
       "pilot state owned real property_gov rec revised fy 19                           float64\n",
       "pilot state owned real property                                                 float64\n",
       "pilot colleges hospitals_fy 2017                                                float64\n",
       "pilot colleges hospitals_gov rec original fy 18                                 float64\n",
       "pilot colleges hospitals_gov rec original fy 19                                 float64\n",
       "pilot colleges hospitals_gov rec revised fy 18                                  float64\n",
       "pilot colleges hospitals_gov rec revised fy 19                                  float64\n",
       "pilot colleges hospitals                                                        float64\n",
       "mashantucket pequot and mohegan fund grant_fy 2017                              float64\n",
       "mashantucket pequot and mohegan fund grant_gov rec original fy 18               float64\n",
       "mashantucket pequot and mohegan fund grant_gov rec original fy 19               float64\n",
       "mashantucket pequot and mohegan fund grant_gov rec revised fy 18                float64\n",
       "mashantucket pequot and mohegan fund grant_gov rec revised fy 19                float64\n",
       "mashantucket pequot and mohegan fund grant                                      float64\n",
       "town aid road grant_fy 2017                                                     float64\n",
       "town aid road grant_gov rec original fy 18                                      float64\n",
       "town aid road grant_gov rec original fy 19                                      float64\n",
       "town aid road grant_gov rec revised fy 18                                       float64\n",
       "town aid road grant_gov rec revised fy 19                                       float64\n",
       "town aid road grant                                                             float64\n",
       "local capital improvement locip _fy 2017                                        float64\n",
       "local capital improvement locip _gov rec original fy 18                         float64\n",
       "local capital improvement locip _gov rec original fy 19                         float64\n",
       "local capital improvement locip _gov rec revised fy 18                          float64\n",
       "                                                                                 ...   \n",
       "mrsf urban stabilization grants                                                 float64\n",
       "total statutory formula aid _fy 2017                                            float64\n",
       "total statutory formula aid _gov rec original fy 18                             float64\n",
       "total statutory formula aid _gov rec original fy 19                             float64\n",
       "total statutory formula aid _gov rec revised fy 18                              float64\n",
       "total statutory formula aid _gov rec revised fy 19                              float64\n",
       "total statutory formula aid                                                     float64\n",
       "less reimbursement from towns for teachers retirement_fy 2017                   float64\n",
       "less reimbursement from towns for teachers retirement_gov rec original fy 18    float64\n",
       "less reimbursement from towns for teachers retirement_gov rec original fy 19    float64\n",
       "less reimbursement from towns for teachers retirement_gov rec revised fy 18     float64\n",
       "less reimbursement from towns for teachers retirement_gov rec revised fy 19     float64\n",
       "less reimbursement from towns for teachers retirement                           float64\n",
       "local property tax revenue on hospital real property _fy 2017                   float64\n",
       "local property tax revenue on hospital real property _gov rec original fy 18    float64\n",
       "local property tax revenue on hospital real property _gov rec original fy 19    float64\n",
       "local property tax revenue on hospital real property _gov rec revised fy 18     float64\n",
       "local property tax revenue on hospital real property _gov rec revised fy 19     float64\n",
       "local property tax revenue on hospital real property                            float64\n",
       "cumulative total_fy 2017                                                        float64\n",
       "cumulative total_gov rec original fy 18                                         float64\n",
       "cumulative total_gov rec original fy 19                                         float64\n",
       "cumulative total_gov rec revised fy 18                                          float64\n",
       "cumulative total_gov rec revised fy 19                                          float64\n",
       "cumulative total                                                                float64\n",
       "cumulative total_diff fy 18 gov rec vs gov rec ii                               float64\n",
       "cumulative total_diff fy 19 gov rec vs comm                                     float64\n",
       "cumulative total                                                                float64\n",
       "cumulative total_diff fy 18 gov rec vs fy 17                                    float64\n",
       "cumulative total                                                                 object\n",
       "dtype: object"
      ]
     },
     "execution_count": 49,
     "metadata": {},
     "output_type": "execute_result"
    }
   ],
   "source": [
    "import re\n",
    "def get_df():\n",
    "    \n",
    "    ret = pd.read_excel(\"raw/Gov Revised FY 18 FY 19.xlsx\", header=None)\n",
    "    \n",
    "    ret = merge_01(ret).drop(0)\n",
    "    \n",
    "    cols = []\n",
    "    \n",
    "    for c in ret.columns:\n",
    "        cols.append(re.sub(r'[^a-z0-9_]+',' ', c.lower()))\n",
    "    \n",
    "    ret.columns = cols\n",
    "    \n",
    "    pstring = \"\"\n",
    "    for c in ret.columns:\n",
    "        pstring += \"'\" + c + \"',\"\n",
    "    #print pstring\n",
    "    \n",
    "    for c in cols[2:]:\n",
    "        try:\n",
    "            ret[c] = pd.to_numeric(ret[c],errors=\"coerce\")\n",
    "        except:\n",
    "            pass\n",
    "    \n",
    "    return ret\n",
    "\n",
    "get_df().dtypes"
   ]
  },
  {
   "cell_type": "code",
   "execution_count": 50,
   "metadata": {
    "collapsed": true
   },
   "outputs": [],
   "source": [
    "df = get_df()"
   ]
  },
  {
   "cell_type": "code",
   "execution_count": 51,
   "metadata": {
    "collapsed": true
   },
   "outputs": [],
   "source": [
    "df.to_csv(\"output/budget_changes.csv\",index=False)"
   ]
  },
  {
   "cell_type": "code",
   "execution_count": 53,
   "metadata": {
    "collapsed": false
   },
   "outputs": [
    {
     "data": {
      "text/html": [
       "<div>\n",
       "<table border=\"1\" class=\"dataframe\">\n",
       "  <thead>\n",
       "    <tr style=\"text-align: right;\">\n",
       "      <th></th>\n",
       "      <th>index</th>\n",
       "      <th>grantee</th>\n",
       "      <th>pilot state owned real property_fy 2017</th>\n",
       "      <th>pilot state owned real property_gov rec original fy 18</th>\n",
       "      <th>pilot state owned real property_gov rec original fy 19</th>\n",
       "      <th>pilot state owned real property_gov rec revised fy 18</th>\n",
       "      <th>pilot state owned real property_gov rec revised fy 19</th>\n",
       "      <th>pilot state owned real property</th>\n",
       "      <th>pilot colleges hospitals_fy 2017</th>\n",
       "      <th>pilot colleges hospitals_gov rec original fy 18</th>\n",
       "      <th>...</th>\n",
       "      <th>cumulative total_gov rec original fy 18</th>\n",
       "      <th>cumulative total_gov rec original fy 19</th>\n",
       "      <th>cumulative total_gov rec revised fy 18</th>\n",
       "      <th>cumulative total_gov rec revised fy 19</th>\n",
       "      <th>cumulative total</th>\n",
       "      <th>cumulative total_diff fy 18 gov rec vs gov rec ii</th>\n",
       "      <th>cumulative total_diff fy 19 gov rec vs comm</th>\n",
       "      <th>cumulative total</th>\n",
       "      <th>cumulative total_diff fy 18 gov rec vs fy 17</th>\n",
       "      <th>cumulative total</th>\n",
       "    </tr>\n",
       "  </thead>\n",
       "  <tbody>\n",
       "    <tr>\n",
       "      <th>64</th>\n",
       "      <td>66</td>\n",
       "      <td>Hartford</td>\n",
       "      <td>13560353.0</td>\n",
       "      <td>12189166.52</td>\n",
       "      <td>12189166.52</td>\n",
       "      <td>12189166.52</td>\n",
       "      <td>12189166.52</td>\n",
       "      <td>NaN</td>\n",
       "      <td>23664027.0</td>\n",
       "      <td>5887469.0</td>\n",
       "      <td>...</td>\n",
       "      <td>3.215654e+08</td>\n",
       "      <td>3.197213e+08</td>\n",
       "      <td>3.292819e+08</td>\n",
       "      <td>3.279922e+08</td>\n",
       "      <td>NaN</td>\n",
       "      <td>7.716529e+06</td>\n",
       "      <td>8.270955e+06</td>\n",
       "      <td>NaN</td>\n",
       "      <td>5.717579e+07</td>\n",
       "      <td>NaN</td>\n",
       "    </tr>\n",
       "  </tbody>\n",
       "</table>\n",
       "<p>1 rows × 112 columns</p>\n",
       "</div>"
      ],
      "text/plain": [
       "    index   grantee  pilot state owned real property_fy 2017  \\\n",
       "64     66  Hartford                               13560353.0   \n",
       "\n",
       "    pilot state owned real property_gov rec original fy 18  \\\n",
       "64                                        12189166.52        \n",
       "\n",
       "    pilot state owned real property_gov rec original fy 19  \\\n",
       "64                                        12189166.52        \n",
       "\n",
       "    pilot state owned real property_gov rec revised fy 18  \\\n",
       "64                                        12189166.52       \n",
       "\n",
       "    pilot state owned real property_gov rec revised fy 19  \\\n",
       "64                                        12189166.52       \n",
       "\n",
       "    pilot state owned real property  pilot colleges hospitals_fy 2017  \\\n",
       "64                              NaN                        23664027.0   \n",
       "\n",
       "    pilot colleges hospitals_gov rec original fy 18        ...         \\\n",
       "64                                        5887469.0        ...          \n",
       "\n",
       "    cumulative total_gov rec original fy 18  \\\n",
       "64                             3.215654e+08   \n",
       "\n",
       "    cumulative total_gov rec original fy 19  \\\n",
       "64                             3.197213e+08   \n",
       "\n",
       "    cumulative total_gov rec revised fy 18  \\\n",
       "64                            3.292819e+08   \n",
       "\n",
       "    cumulative total_gov rec revised fy 19  cumulative total  \\\n",
       "64                            3.279922e+08               NaN   \n",
       "\n",
       "    cumulative total_diff fy 18 gov rec vs gov rec ii  \\\n",
       "64                                       7.716529e+06   \n",
       "\n",
       "    cumulative total_diff fy 19 gov rec vs comm  cumulative total  \\\n",
       "64                                 8.270955e+06               NaN   \n",
       "\n",
       "    cumulative total_diff fy 18 gov rec vs fy 17  cumulative total  \n",
       "64                                  5.717579e+07               NaN  \n",
       "\n",
       "[1 rows x 112 columns]"
      ]
     },
     "execution_count": 53,
     "metadata": {},
     "output_type": "execute_result"
    }
   ],
   "source": [
    "df[df[\"grantee\"] == \"Hartford\"]"
   ]
  },
  {
   "cell_type": "code",
   "execution_count": 69,
   "metadata": {
    "collapsed": false
   },
   "outputs": [
    {
     "data": {
      "text/html": [
       "<div>\n",
       "<table border=\"1\" class=\"dataframe\">\n",
       "  <thead>\n",
       "    <tr style=\"text-align: right;\">\n",
       "      <th></th>\n",
       "      <th>town</th>\n",
       "      <th>sped</th>\n",
       "    </tr>\n",
       "  </thead>\n",
       "  <tbody>\n",
       "    <tr>\n",
       "      <th>0</th>\n",
       "      <td>Andover</td>\n",
       "      <td>136950</td>\n",
       "    </tr>\n",
       "    <tr>\n",
       "      <th>1</th>\n",
       "      <td>Ansonia</td>\n",
       "      <td>1020537</td>\n",
       "    </tr>\n",
       "    <tr>\n",
       "      <th>2</th>\n",
       "      <td>Ashford</td>\n",
       "      <td>172340</td>\n",
       "    </tr>\n",
       "    <tr>\n",
       "      <th>3</th>\n",
       "      <td>Avon</td>\n",
       "      <td>1081136</td>\n",
       "    </tr>\n",
       "    <tr>\n",
       "      <th>4</th>\n",
       "      <td>Barkhamsted</td>\n",
       "      <td>129710</td>\n",
       "    </tr>\n",
       "  </tbody>\n",
       "</table>\n",
       "</div>"
      ],
      "text/plain": [
       "          town     sped\n",
       "0      Andover   136950\n",
       "1      Ansonia  1020537\n",
       "2      Ashford   172340\n",
       "3         Avon  1081136\n",
       "4  Barkhamsted   129710"
      ]
     },
     "execution_count": 69,
     "metadata": {},
     "output_type": "execute_result"
    }
   ],
   "source": [
    "def get_sped_df():\n",
    "    ret = pd.read_excel(\"raw/OPM Excess Cost 5 year average.xlsx\",skiprows=8)\n",
    "    \n",
    "    #print ret.columns\n",
    "    ret.columns = [u'Unnamed: 0', u'town', u'Unnamed: 2', u'Unnamed: 3',\n",
    "       u'Unnamed: 4', u'Unnamed: 5', u'Unnamed: 6', u'sped']\n",
    "    return ret[[\"town\",\"sped\"]]\n",
    "    \n",
    "get_sped_df().head()\n"
   ]
  },
  {
   "cell_type": "code",
   "execution_count": 88,
   "metadata": {
    "collapsed": false
   },
   "outputs": [
    {
     "name": "stdout",
     "output_type": "stream",
     "text": [
      "no match: Bantam (Bor.)\n",
      "no match: Danielson (Bor.)\n",
      "no match: Fenwick (Bor.)\n",
      "no match: Groton (City of)\n",
      "no match: Groton Long Point\n",
      "no match: Jewett City (Bor.)\n",
      "no match: Litchfield (Bor.)\n",
      "no match: Newtown (Bor.)\n",
      "no match: Stonington (Bor.)\n",
      "no match: Woodmont (Bor.)\n",
      "no match: District No.   1\n",
      "no match: District No.   4\n",
      "no match: District No.   5\n",
      "no match: District No.   6\n",
      "no match: District No.   7\n",
      "no match: District No.   8\n",
      "no match: District No. 10\n",
      "no match: District No. 12\n",
      "no match: District No. 13\n",
      "no match: District No. 14\n",
      "no match: District No. 15\n",
      "no match: District No. 16\n",
      "no match: District No. 17\n",
      "no match: District No. 18\n",
      "no match: District No. 19\n",
      "no match: Education Conn\n",
      "no match: EASTCONN\n",
      "no match: SDE Admin Costs\n",
      "no match: Blmfld Cntr FD\n",
      "no match: Blmfld Blue Hills FD\n",
      "no match: Cromwell FD\n",
      "no match: Hazardville FD #3\n",
      "no match: Enfield Thmpsnvll \n",
      "no match: Manchester - 8th Utility Dist\n",
      "no match: Groton: Poq. Brdg FD\n",
      "no match: Middletown City FD\n",
      "no match: Middletown  South Fire\n",
      "no match: N. Milford FD\n",
      "no match: Norwich - CCD \n",
      "no match: Norwich - TCD\n",
      "no match: Simsbury FD\n",
      "no match: Plainfield FD\n",
      "no match: W. Putnam Dist\n",
      "no match: Wndhm Spec Svc Dist #2\n",
      "no match: W Haven 1st Center\n",
      "no match: Allingtown \n",
      "no match: W. Shore FD \n",
      "no match: Various Fire Dist\n",
      "no match: TOTALS \n"
     ]
    },
    {
     "ename": "TypeError",
     "evalue": "cannot concatenate 'str' and 'float' objects",
     "output_type": "error",
     "traceback": [
      "\u001b[0;31m---------------------------------------------------------------------------\u001b[0m",
      "\u001b[0;31mTypeError\u001b[0m                                 Traceback (most recent call last)",
      "\u001b[0;32m<ipython-input-88-de11a0c3b910>\u001b[0m in \u001b[0;36m<module>\u001b[0;34m()\u001b[0m\n\u001b[1;32m     14\u001b[0m     \u001b[0;32mprint\u001b[0m \u001b[0;34m\"no match: \"\u001b[0m \u001b[0;34m+\u001b[0m \u001b[0mtown\u001b[0m\u001b[0;34m\u001b[0m\u001b[0m\n\u001b[1;32m     15\u001b[0m \u001b[0;34m\u001b[0m\u001b[0m\n\u001b[0;32m---> 16\u001b[0;31m \u001b[0mdf\u001b[0m\u001b[0;34m[\u001b[0m\u001b[0;34m\"special education_fy 2017\"\u001b[0m\u001b[0;34m]\u001b[0m \u001b[0;34m=\u001b[0m \u001b[0mdf\u001b[0m\u001b[0;34m[\u001b[0m\u001b[0;34m\"grantee\"\u001b[0m\u001b[0;34m]\u001b[0m\u001b[0;34m.\u001b[0m\u001b[0mapply\u001b[0m\u001b[0;34m(\u001b[0m\u001b[0mget_sped\u001b[0m\u001b[0;34m)\u001b[0m\u001b[0;34m\u001b[0m\u001b[0m\n\u001b[0m",
      "\u001b[0;32m/usr/local/lib/python2.7/site-packages/pandas/core/series.pyc\u001b[0m in \u001b[0;36mapply\u001b[0;34m(self, func, convert_dtype, args, **kwds)\u001b[0m\n\u001b[1;32m   2292\u001b[0m             \u001b[0;32melse\u001b[0m\u001b[0;34m:\u001b[0m\u001b[0;34m\u001b[0m\u001b[0m\n\u001b[1;32m   2293\u001b[0m                 \u001b[0mvalues\u001b[0m \u001b[0;34m=\u001b[0m \u001b[0mself\u001b[0m\u001b[0;34m.\u001b[0m\u001b[0masobject\u001b[0m\u001b[0;34m\u001b[0m\u001b[0m\n\u001b[0;32m-> 2294\u001b[0;31m                 \u001b[0mmapped\u001b[0m \u001b[0;34m=\u001b[0m \u001b[0mlib\u001b[0m\u001b[0;34m.\u001b[0m\u001b[0mmap_infer\u001b[0m\u001b[0;34m(\u001b[0m\u001b[0mvalues\u001b[0m\u001b[0;34m,\u001b[0m \u001b[0mf\u001b[0m\u001b[0;34m,\u001b[0m \u001b[0mconvert\u001b[0m\u001b[0;34m=\u001b[0m\u001b[0mconvert_dtype\u001b[0m\u001b[0;34m)\u001b[0m\u001b[0;34m\u001b[0m\u001b[0m\n\u001b[0m\u001b[1;32m   2295\u001b[0m \u001b[0;34m\u001b[0m\u001b[0m\n\u001b[1;32m   2296\u001b[0m         \u001b[0;32mif\u001b[0m \u001b[0mlen\u001b[0m\u001b[0;34m(\u001b[0m\u001b[0mmapped\u001b[0m\u001b[0;34m)\u001b[0m \u001b[0;32mand\u001b[0m \u001b[0misinstance\u001b[0m\u001b[0;34m(\u001b[0m\u001b[0mmapped\u001b[0m\u001b[0;34m[\u001b[0m\u001b[0;36m0\u001b[0m\u001b[0;34m]\u001b[0m\u001b[0;34m,\u001b[0m \u001b[0mSeries\u001b[0m\u001b[0;34m)\u001b[0m\u001b[0;34m:\u001b[0m\u001b[0;34m\u001b[0m\u001b[0m\n",
      "\u001b[0;32mpandas/src/inference.pyx\u001b[0m in \u001b[0;36mpandas.lib.map_infer (pandas/lib.c:66124)\u001b[0;34m()\u001b[0m\n",
      "\u001b[0;32m<ipython-input-88-de11a0c3b910>\u001b[0m in \u001b[0;36mget_sped\u001b[0;34m(town)\u001b[0m\n\u001b[1;32m     12\u001b[0m         \u001b[0;32mpass\u001b[0m\u001b[0;34m\u001b[0m\u001b[0m\n\u001b[1;32m     13\u001b[0m \u001b[0;34m\u001b[0m\u001b[0m\n\u001b[0;32m---> 14\u001b[0;31m     \u001b[0;32mprint\u001b[0m \u001b[0;34m\"no match: \"\u001b[0m \u001b[0;34m+\u001b[0m \u001b[0mtown\u001b[0m\u001b[0;34m\u001b[0m\u001b[0m\n\u001b[0m\u001b[1;32m     15\u001b[0m \u001b[0;34m\u001b[0m\u001b[0m\n\u001b[1;32m     16\u001b[0m \u001b[0mdf\u001b[0m\u001b[0;34m[\u001b[0m\u001b[0;34m\"special education_fy 2017\"\u001b[0m\u001b[0;34m]\u001b[0m \u001b[0;34m=\u001b[0m \u001b[0mdf\u001b[0m\u001b[0;34m[\u001b[0m\u001b[0;34m\"grantee\"\u001b[0m\u001b[0;34m]\u001b[0m\u001b[0;34m.\u001b[0m\u001b[0mapply\u001b[0m\u001b[0;34m(\u001b[0m\u001b[0mget_sped\u001b[0m\u001b[0;34m)\u001b[0m\u001b[0;34m\u001b[0m\u001b[0m\n",
      "\u001b[0;31mTypeError\u001b[0m: cannot concatenate 'str' and 'float' objects"
     ]
    }
   ],
   "source": [
    "def get_sped(town):\n",
    "    spdf = get_sped_df()\n",
    "    try:\n",
    "        matches = spdf[spdf[\"town\"].str.upper() == town.upper()]\n",
    "    except:\n",
    "        pass\n",
    "    \n",
    "    try:\n",
    "        if len(matches) == 1:\n",
    "            return float(matches[\"sped\"])\n",
    "    except:\n",
    "        pass\n",
    "    \n",
    "    print \"no match: \" + town\n",
    "    \n",
    "df[\"special education_fy 2017\"] = df[\"grantee\"].apply(get_sped)"
   ]
  },
  {
   "cell_type": "code",
   "execution_count": null,
   "metadata": {
    "collapsed": false
   },
   "outputs": [],
   "source": []
  },
  {
   "cell_type": "code",
   "execution_count": null,
   "metadata": {
    "collapsed": false
   },
   "outputs": [],
   "source": [
    "df[\"special education_fy 2017\"]"
   ]
  },
  {
   "cell_type": "code",
   "execution_count": 89,
   "metadata": {
    "collapsed": true
   },
   "outputs": [],
   "source": [
    "df.to_csv(\"output/budget_changes.csv\",index=False)"
   ]
  },
  {
   "cell_type": "code",
   "execution_count": null,
   "metadata": {
    "collapsed": true
   },
   "outputs": [],
   "source": []
  }
 ],
 "metadata": {
  "kernelspec": {
   "display_name": "Python 2",
   "language": "python",
   "name": "python2"
  },
  "language_info": {
   "codemirror_mode": {
    "name": "ipython",
    "version": 2
   },
   "file_extension": ".py",
   "mimetype": "text/x-python",
   "name": "python",
   "nbconvert_exporter": "python",
   "pygments_lexer": "ipython2",
   "version": "2.7.13"
  }
 },
 "nbformat": 4,
 "nbformat_minor": 0
}
